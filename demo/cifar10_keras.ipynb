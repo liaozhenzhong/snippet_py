{
 "cells": [
  {
   "cell_type": "code",
   "execution_count": 1,
   "metadata": {},
   "outputs": [
    {
     "name": "stderr",
     "output_type": "stream",
     "text": [
      "Using TensorFlow backend.\n"
     ]
    }
   ],
   "source": [
    "import keras\n",
    "import numpy as np\n",
    "import matplotlib.pyplot as plt"
   ]
  },
  {
   "cell_type": "code",
   "execution_count": 2,
   "metadata": {},
   "outputs": [],
   "source": [
    "(x_train, y_train), (x_test, y_test) = keras.datasets.cifar10.load_data()"
   ]
  },
  {
   "cell_type": "code",
   "execution_count": 3,
   "metadata": {},
   "outputs": [],
   "source": [
    "x_train = x_train.astype('float32')\n",
    "x_test = x_test.astype('float32')\n",
    "x_train /= 255\n",
    "x_test /= 255"
   ]
  },
  {
   "cell_type": "code",
   "execution_count": 4,
   "metadata": {},
   "outputs": [],
   "source": [
    "y_train = keras.utils.to_categorical(y_train, num_classes=10)\n",
    "y_test = keras.utils.to_categorical(y_test, num_classes=10)"
   ]
  },
  {
   "cell_type": "code",
   "execution_count": 15,
   "metadata": {},
   "outputs": [],
   "source": [
    "reg = 2.5e-4\n",
    "model = keras.models.Sequential([\n",
    "    keras.layers.Conv2D(64, [3, 3], padding='same', kernel_regularizer=keras.regularizers.l2(l=reg), activation='relu', input_shape=[32, 32, 3]),\n",
    "    keras.layers.Conv2D(64, [3, 3], padding='same', kernel_regularizer=keras.regularizers.l2(l=reg), activation='relu'),\n",
    "    keras.layers.MaxPool2D([2, 2]),\n",
    "    keras.layers.BatchNormalization(),\n",
    "    keras.layers.Dropout(0.4),\n",
    "    keras.layers.Conv2D(128, [3, 3], padding='same', kernel_regularizer=keras.regularizers.l2(l=reg), activation='relu'),\n",
    "    keras.layers.Conv2D(128, [3, 3], padding='same', kernel_regularizer=keras.regularizers.l2(l=reg), activation='relu'),\n",
    "    keras.layers.MaxPool2D([2, 2]),\n",
    "    keras.layers.BatchNormalization(),\n",
    "    keras.layers.Dropout(0.4),\n",
    "    keras.layers.Flatten(),\n",
    "    keras.layers.BatchNormalization(),\n",
    "    keras.layers.Dense(units=512, activation='relu', kernel_regularizer=keras.regularizers.l2(l=reg)),\n",
    "    keras.layers.Dropout(0.4),\n",
    "    keras.layers.Dense(units=10, activation='softmax'),\n",
    "])"
   ]
  },
  {
   "cell_type": "code",
   "execution_count": 16,
   "metadata": {},
   "outputs": [],
   "source": [
    "model.compile(optimizer='adam', loss='categorical_crossentropy', metrics=['acc'])"
   ]
  },
  {
   "cell_type": "code",
   "execution_count": 17,
   "metadata": {},
   "outputs": [
    {
     "name": "stdout",
     "output_type": "stream",
     "text": [
      "Train on 50000 samples, validate on 10000 samples\n",
      "Epoch 1/20\n",
      " - 13s - loss: 2.2593 - acc: 0.4343 - val_loss: 1.8384 - val_acc: 0.5042\n",
      "Epoch 2/20\n",
      " - 11s - loss: 1.4602 - acc: 0.6221 - val_loss: 1.5873 - val_acc: 0.5814\n",
      "Epoch 3/20\n",
      " - 11s - loss: 1.2605 - acc: 0.6940 - val_loss: 1.2756 - val_acc: 0.7039\n",
      "Epoch 4/20\n",
      " - 11s - loss: 1.1367 - acc: 0.7360 - val_loss: 1.3205 - val_acc: 0.6973\n",
      "Epoch 5/20\n",
      " - 11s - loss: 1.0643 - acc: 0.7661 - val_loss: 1.2008 - val_acc: 0.7171\n",
      "Epoch 6/20\n",
      " - 11s - loss: 1.0123 - acc: 0.7849 - val_loss: 1.1047 - val_acc: 0.7610\n",
      "Epoch 7/20\n",
      " - 11s - loss: 0.9773 - acc: 0.8057 - val_loss: 1.1052 - val_acc: 0.7716\n",
      "Epoch 8/20\n",
      " - 11s - loss: 0.9491 - acc: 0.8184 - val_loss: 1.1177 - val_acc: 0.7748\n",
      "Epoch 9/20\n",
      " - 11s - loss: 0.9363 - acc: 0.8324 - val_loss: 1.2199 - val_acc: 0.7659\n",
      "Epoch 10/20\n",
      " - 11s - loss: 0.9234 - acc: 0.8436 - val_loss: 1.1729 - val_acc: 0.7823\n",
      "Epoch 11/20\n",
      " - 11s - loss: 0.9252 - acc: 0.8528 - val_loss: 1.1470 - val_acc: 0.7908\n",
      "Epoch 12/20\n",
      " - 11s - loss: 0.9302 - acc: 0.8599 - val_loss: 1.3488 - val_acc: 0.7499\n",
      "Epoch 13/20\n",
      " - 11s - loss: 0.9430 - acc: 0.8628 - val_loss: 1.3039 - val_acc: 0.7716\n",
      "Epoch 14/20\n",
      " - 11s - loss: 0.9481 - acc: 0.8675 - val_loss: 1.3125 - val_acc: 0.7801\n",
      "Epoch 15/20\n",
      " - 11s - loss: 0.9525 - acc: 0.8725 - val_loss: 1.4051 - val_acc: 0.7519\n",
      "Epoch 16/20\n",
      " - 11s - loss: 0.9668 - acc: 0.8735 - val_loss: 1.3364 - val_acc: 0.7830\n",
      "Epoch 17/20\n",
      " - 11s - loss: 0.9686 - acc: 0.8799 - val_loss: 1.4736 - val_acc: 0.7520\n",
      "Epoch 18/20\n",
      " - 11s - loss: 0.9747 - acc: 0.8830 - val_loss: 1.4870 - val_acc: 0.7565\n",
      "Epoch 19/20\n",
      " - 11s - loss: 0.9770 - acc: 0.8858 - val_loss: 1.2977 - val_acc: 0.7959\n",
      "Epoch 20/20\n",
      " - 11s - loss: 0.9888 - acc: 0.8861 - val_loss: 1.4106 - val_acc: 0.7778\n"
     ]
    }
   ],
   "source": [
    "his = model.fit(x_train, y_train, batch_size=256, epochs=20, validation_data=[x_test, y_test], verbose=2)"
   ]
  },
  {
   "cell_type": "code",
   "execution_count": 18,
   "metadata": {},
   "outputs": [
    {
     "data": {
      "text/plain": [
       "[<matplotlib.lines.Line2D at 0x7f7ed62f2630>]"
      ]
     },
     "execution_count": 18,
     "metadata": {},
     "output_type": "execute_result"
    },
    {
     "data": {
      "image/png": "[encoded data removed]",
      "text/plain": [
       "<Figure size 432x288 with 1 Axes>"
      ]
     },
     "metadata": {
      "needs_background": "light"
     },
     "output_type": "display_data"
    }
   ],
   "source": [
    "plt.plot(his.history['val_acc'], 'r')\n",
    "plt.plot(his.history['acc'], 'g')"
   ]
  },
  {
   "cell_type": "code",
   "execution_count": 19,
   "metadata": {},
   "outputs": [
    {
     "data": {
      "text/plain": [
       "[<matplotlib.lines.Line2D at 0x7f7ed62451d0>]"
      ]
     },
     "execution_count": 19,
     "metadata": {},
     "output_type": "execute_result"
    },
    {
     "data": {
      "image/png": "[encoded data removed]",
      "text/plain": [
       "<Figure size 432x288 with 1 Axes>"
      ]
     },
     "metadata": {
      "needs_background": "light"
     },
     "output_type": "display_data"
    }
   ],
   "source": [
    "plt.plot(his.history['val_loss'], 'r')\n",
    "plt.plot(his.history['loss'], 'g')"
   ]
  },
  {
   "cell_type": "code",
   "execution_count": null,
   "metadata": {},
   "outputs": [],
   "source": []
  }
 ],
 "metadata": {
  "kernelspec": {
   "display_name": "Python 3",
   "language": "python",
   "name": "python3"
  },
  "language_info": {
   "codemirror_mode": {
    "name": "ipython",
    "version": 3
   },
   "file_extension": ".py",
   "mimetype": "text/x-python",
   "name": "python",
   "nbconvert_exporter": "python",
   "pygments_lexer": "ipython3",
   "version": "3.6.7"
  }
 },
 "nbformat": 4,
 "nbformat_minor": 2
}
