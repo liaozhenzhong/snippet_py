{
 "cells": [
  {
   "cell_type": "code",
   "execution_count": 1,
   "metadata": {},
   "outputs": [],
   "source": [
    "import tensorflow as tf\n",
    "import numpy as np\n",
    "import matplotlib.pyplot as plt"
   ]
  },
  {
   "cell_type": "code",
   "execution_count": 2,
   "metadata": {},
   "outputs": [],
   "source": [
    "batch_size = 128"
   ]
  },
  {
   "cell_type": "code",
   "execution_count": 3,
   "metadata": {},
   "outputs": [],
   "source": [
    "(x_train, y_train), (x_test, y_test) = tf.keras.datasets.mnist.load_data()"
   ]
  },
  {
   "cell_type": "code",
   "execution_count": 4,
   "metadata": {},
   "outputs": [],
   "source": [
    "x_train = x_train.reshape(-1, 28*28)/255\n",
    "x_test = x_test.reshape(-1, 28*28)/255"
   ]
  },
  {
   "cell_type": "code",
   "execution_count": 5,
   "metadata": {},
   "outputs": [],
   "source": [
    "y_train = tf.keras.utils.to_categorical(y_train)\n",
    "y_test = tf.keras.utils.to_categorical(y_test)"
   ]
  },
  {
   "cell_type": "code",
   "execution_count": 6,
   "metadata": {},
   "outputs": [],
   "source": [
    "x = tf.placeholder(tf.float32)\n",
    "y = tf.placeholder(tf.float32)"
   ]
  },
  {
   "cell_type": "code",
   "execution_count": 7,
   "metadata": {},
   "outputs": [],
   "source": [
    "w0 = tf.Variable(tf.random_normal([784, 30]))\n",
    "b0 = tf.Variable(tf.zeros([1, 30]))\n",
    "w1 = tf.Variable(tf.random_normal([30, 10]))\n",
    "b1 = tf.Variable(tf.zeros([1, 10]))"
   ]
  },
  {
   "cell_type": "code",
   "execution_count": 8,
   "metadata": {},
   "outputs": [],
   "source": [
    "a0 = tf.sigmoid(tf.matmul(x, w0) + b0)\n",
    "a1 = tf.sigmoid(tf.matmul(a0, w1) + b1)"
   ]
  },
  {
   "cell_type": "code",
   "execution_count": 9,
   "metadata": {},
   "outputs": [],
   "source": [
    "loss = tf.reduce_mean(tf.square(y - a1))"
   ]
  },
  {
   "cell_type": "code",
   "execution_count": 10,
   "metadata": {},
   "outputs": [],
   "source": [
    "opti = tf.train.GradientDescentOptimizer(1).minimize(loss)"
   ]
  },
  {
   "cell_type": "code",
   "execution_count": 11,
   "metadata": {},
   "outputs": [],
   "source": [
    "acc = tf.reduce_mean(tf.cast(tf.equal(tf.argmax(y, axis=1), tf.argmax(a1, axis=1)), tf.float32))"
   ]
  },
  {
   "cell_type": "code",
   "execution_count": 12,
   "metadata": {},
   "outputs": [],
   "source": [
    "def generate_date(x, y, batch_size):\n",
    "    for i in range(0, len(x) - batch_size, batch_size):\n",
    "        yield x[i:i+batch_size], y[i:i+batch_size]"
   ]
  },
  {
   "cell_type": "code",
   "execution_count": 13,
   "metadata": {},
   "outputs": [],
   "source": [
    "se = tf.Session()"
   ]
  },
  {
   "cell_type": "code",
   "execution_count": 14,
   "metadata": {},
   "outputs": [],
   "source": [
    "se.run(tf.global_variables_initializer())"
   ]
  },
  {
   "cell_type": "code",
   "execution_count": 15,
   "metadata": {},
   "outputs": [
    {
     "name": "stdout",
     "output_type": "stream",
     "text": [
      "0 [0.090864874, 0.218]\n",
      "1 [0.08408514, 0.306]\n",
      "2 [0.07773326, 0.3788]\n",
      "3 [0.07171275, 0.4505]\n",
      "4 [0.06608826, 0.5019]\n",
      "5 [0.061590936, 0.5469]\n",
      "6 [0.05763843, 0.5874]\n",
      "7 [0.05388947, 0.6253]\n",
      "8 [0.050502285, 0.6591]\n",
      "9 [0.047644235, 0.6832]\n",
      "10 [0.045256782, 0.7002]\n",
      "11 [0.043245133, 0.7128]\n",
      "12 [0.04154315, 0.7253]\n",
      "13 [0.04009003, 0.7346]\n",
      "14 [0.0388331, 0.7426]\n",
      "15 [0.03773399, 0.7492]\n",
      "16 [0.036764562, 0.7559]\n",
      "17 [0.035900805, 0.7623]\n",
      "18 [0.035122965, 0.7668]\n",
      "19 [0.034416508, 0.7715]\n",
      "20 [0.033771083, 0.7754]\n",
      "21 [0.033179346, 0.7782]\n",
      "22 [0.03263589, 0.7811]\n",
      "23 [0.03213601, 0.7843]\n",
      "24 [0.03167508, 0.7871]\n",
      "25 [0.031248735, 0.7897]\n",
      "26 [0.030852936, 0.7907]\n",
      "27 [0.03048402, 0.7928]\n",
      "28 [0.030138927, 0.7962]\n",
      "29 [0.029815035, 0.7978]\n",
      "30 [0.029509893, 0.7994]\n",
      "31 [0.029221563, 0.8006]\n",
      "32 [0.028948203, 0.8019]\n",
      "33 [0.028688168, 0.8038]\n",
      "34 [0.028440097, 0.8054]\n",
      "35 [0.028202532, 0.8071]\n",
      "36 [0.027974136, 0.8088]\n",
      "37 [0.027753247, 0.8094]\n",
      "38 [0.02753787, 0.8105]\n",
      "39 [0.027325263, 0.8118]\n",
      "40 [0.027111271, 0.8129]\n",
      "41 [0.026889244, 0.815]\n",
      "42 [0.026647361, 0.8176]\n",
      "43 [0.026366333, 0.8225]\n",
      "44 [0.026019478, 0.8278]\n",
      "45 [0.025585938, 0.8329]\n",
      "46 [0.02507687, 0.8405]\n",
      "47 [0.024538733, 0.8464]\n",
      "48 [0.024020126, 0.8522]\n",
      "49 [0.02354697, 0.8555]\n"
     ]
    }
   ],
   "source": [
    "epochs = 50\n",
    "for i in range(epochs):\n",
    "    for x_, y_ in generate_date(x_train, y_train, batch_size):\n",
    "        se.run(opti, feed_dict={x: x_, y: y_})\n",
    "    print(i, se.run([loss, acc], feed_dict={x: x_test, y: y_test}))"
   ]
  },
  {
   "cell_type": "code",
   "execution_count": 16,
   "metadata": {},
   "outputs": [],
   "source": [
    "res = np.argmax(se.run(a1, feed_dict={x: x_test[:20], y: y_test[:20]}), axis=1)"
   ]
  },
  {
   "cell_type": "code",
   "execution_count": 17,
   "metadata": {},
   "outputs": [
    {
     "data": {
      "text/plain": [
       "array([[7, 2, 1, 0, 4],\n",
       "       [1, 4, 9, 6, 9],\n",
       "       [0, 8, 9, 0, 1],\n",
       "       [5, 9, 7, 2, 4]])"
      ]
     },
     "execution_count": 17,
     "metadata": {},
     "output_type": "execute_result"
    }
   ],
   "source": [
    "res.reshape([4, 5])"
   ]
  },
  {
   "cell_type": "code",
   "execution_count": 18,
   "metadata": {},
   "outputs": [
    {
     "data": {
      "image/png": "[encoded data removed]",
      "text/plain": [
       "<Figure size 864x576 with 20 Axes>"
      ]
     },
     "metadata": {
      "needs_background": "light"
     },
     "output_type": "display_data"
    }
   ],
   "source": [
    "fig = plt.figure(figsize=(12, 8))\n",
    "for i in range(20):\n",
    "    fig.add_subplot(4, 5, i+1)\n",
    "    plt.imshow(x_test[i].reshape([28, 28]))"
   ]
  },
  {
   "cell_type": "code",
   "execution_count": 19,
   "metadata": {},
   "outputs": [],
   "source": [
    "se.close()"
   ]
  },
  {
   "cell_type": "code",
   "execution_count": null,
   "metadata": {},
   "outputs": [],
   "source": []
  }
 ],
 "metadata": {
  "kernelspec": {
   "display_name": "Python 3",
   "language": "python",
   "name": "python3"
  },
  "language_info": {
   "codemirror_mode": {
    "name": "ipython",
    "version": 3
   },
   "file_extension": ".py",
   "mimetype": "text/x-python",
   "name": "python",
   "nbconvert_exporter": "python",
   "pygments_lexer": "ipython3",
   "version": "3.6.5"
  }
 },
 "nbformat": 4,
 "nbformat_minor": 2
}
